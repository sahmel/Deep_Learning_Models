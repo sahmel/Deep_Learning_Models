{
  "nbformat": 4,
  "nbformat_minor": 0,
  "metadata": {
    "accelerator": "GPU",
    "colab": {
      "name": "NLP_Shakespeare_Generator.ipynb",
      "provenance": [],
      "toc_visible": true,
      "include_colab_link": true
    },
    "kernelspec": {
      "display_name": "Python 3",
      "name": "python3"
    }
  },
  "cells": [
    {
      "cell_type": "markdown",
      "metadata": {
        "id": "view-in-github",
        "colab_type": "text"
      },
      "source": [
        "<a href=\"https://colab.research.google.com/github/sahmel/Deep_Learning_Models/blob/master/NLP_Shakespeare_Generator.ipynb\" target=\"_parent\"><img src=\"https://colab.research.google.com/assets/colab-badge.svg\" alt=\"Open In Colab\"/></a>"
      ]
    },
    {
      "cell_type": "code",
      "metadata": {
        "id": "zX4Kg8DUTKWO",
        "colab_type": "code",
        "colab": {}
      },
      "source": [
        "#@title Licensed under the Apache License, Version 2.0 (the \"License\");\n",
        "# you may not use this file except in compliance with the License.\n",
        "# You may obtain a copy of the License at\n",
        "#\n",
        "# https://www.apache.org/licenses/LICENSE-2.0\n",
        "#\n",
        "# Unless required by applicable law or agreed to in writing, software\n",
        "# distributed under the License is distributed on an \"AS IS\" BASIS,\n",
        "# WITHOUT WARRANTIES OR CONDITIONS OF ANY KIND, either express or implied.\n",
        "# See the License for the specific language governing permissions and\n",
        "# limitations under the License."
      ],
      "execution_count": 0,
      "outputs": []
    },
    {
      "cell_type": "code",
      "metadata": {
        "colab_type": "code",
        "id": "BOwsuGQQY9OL",
        "colab": {}
      },
      "source": [
        "from tensorflow.keras.preprocessing.sequence import pad_sequences\n",
        "from tensorflow.keras.layers import Embedding, LSTM, Dense, Dropout, Bidirectional\n",
        "from tensorflow.keras.preprocessing.text import Tokenizer\n",
        "from tensorflow.keras.models import Sequential\n",
        "from tensorflow.keras.optimizers import Adam\n",
        "### YOUR CODE HERE\n",
        "# Figure out how to import regularizers\n",
        "###\n",
        "import tensorflow.keras.utils as ku \n",
        "import numpy as np "
      ],
      "execution_count": 0,
      "outputs": []
    },
    {
      "cell_type": "code",
      "metadata": {
        "colab_type": "code",
        "id": "PRnDnCW-Z7qv",
        "outputId": "5511a293-9ff3-4a58-a92b-5546908257a4",
        "colab": {
          "base_uri": "https://localhost:8080/",
          "height": 207
        }
      },
      "source": [
        "tokenizer = Tokenizer()\n",
        "!wget --no-check-certificate \\\n",
        "    https://storage.googleapis.com/laurencemoroney-blog.appspot.com/sonnets.txt \\\n",
        "    -O /tmp/sonnets.txt\n",
        "data = open('/tmp/sonnets.txt').read()\n",
        "\n",
        "corpus = data.lower().split(\"\\n\")\n",
        "\n",
        "\n",
        "tokenizer.fit_on_texts(corpus)\n",
        "total_words = len(tokenizer.word_index) + 1\n",
        "\n",
        "# create input sequences using list of tokens\n",
        "input_sequences = []\n",
        "for line in corpus:\n",
        "\ttoken_list = tokenizer.texts_to_sequences([line])[0]\n",
        "\tfor i in range(1, len(token_list)):\n",
        "\t\tn_gram_sequence = token_list[:i+1]\n",
        "\t\tinput_sequences.append(n_gram_sequence)\n",
        "\n",
        "\n",
        "# pad sequences \n",
        "max_sequence_len = max([len(x) for x in input_sequences])\n",
        "input_sequences = np.array(pad_sequences(input_sequences, maxlen=max_sequence_len, padding='pre'))\n",
        "\n",
        "# create predictors and label\n",
        "predictors, label = input_sequences[:,:-1],input_sequences[:,-1]\n",
        "\n",
        "label = ku.to_categorical(label, num_classes=total_words)"
      ],
      "execution_count": 0,
      "outputs": [
        {
          "output_type": "stream",
          "text": [
            "--2020-06-05 16:34:58--  https://storage.googleapis.com/laurencemoroney-blog.appspot.com/sonnets.txt\n",
            "Resolving storage.googleapis.com (storage.googleapis.com)... 74.125.204.128, 2404:6800:4008:c04::80\n",
            "Connecting to storage.googleapis.com (storage.googleapis.com)|74.125.204.128|:443... connected.\n",
            "HTTP request sent, awaiting response... 200 OK\n",
            "Length: 93578 (91K) [text/plain]\n",
            "Saving to: ‘/tmp/sonnets.txt’\n",
            "\n",
            "\r/tmp/sonnets.txt      0%[                    ]       0  --.-KB/s               \r/tmp/sonnets.txt    100%[===================>]  91.38K  --.-KB/s    in 0.001s  \n",
            "\n",
            "2020-06-05 16:34:58 (81.6 MB/s) - ‘/tmp/sonnets.txt’ saved [93578/93578]\n",
            "\n"
          ],
          "name": "stdout"
        }
      ]
    },
    {
      "cell_type": "code",
      "metadata": {
        "colab_type": "code",
        "id": "w9vH8Y59ajYL",
        "outputId": "6b501354-a0f8-4ddd-a07f-41900ed0ad04",
        "colab": {
          "base_uri": "https://localhost:8080/",
          "height": 380
        }
      },
      "source": [
        "model = Sequential()\n",
        "model = Sequential()\n",
        "model.add(Embedding(total_words, 100, input_length=max_sequence_len-1))\n",
        "model.add(Bidirectional(LSTM(512, return_sequences = True)))\n",
        "model.add(Dropout(0.2))\n",
        "model.add(Bidirectional(LSTM(256)))\n",
        "model.add(Dense(512, activation='relu'))\n",
        "model.add(Dense(total_words, activation='softmax'))\n",
        "model.compile(loss='categorical_crossentropy', optimizer='adam', metrics=['accuracy'])\n",
        "print(model.summary())\n"
      ],
      "execution_count": 0,
      "outputs": [
        {
          "output_type": "stream",
          "text": [
            "Model: \"sequential_5\"\n",
            "_________________________________________________________________\n",
            "Layer (type)                 Output Shape              Param #   \n",
            "=================================================================\n",
            "embedding_2 (Embedding)      (None, 10, 100)           321100    \n",
            "_________________________________________________________________\n",
            "bidirectional_4 (Bidirection (None, 10, 1024)          2510848   \n",
            "_________________________________________________________________\n",
            "dropout_2 (Dropout)          (None, 10, 1024)          0         \n",
            "_________________________________________________________________\n",
            "bidirectional_5 (Bidirection (None, 512)               2623488   \n",
            "_________________________________________________________________\n",
            "dense_2 (Dense)              (None, 512)               262656    \n",
            "_________________________________________________________________\n",
            "dense_3 (Dense)              (None, 3211)              1647243   \n",
            "=================================================================\n",
            "Total params: 7,365,335\n",
            "Trainable params: 7,365,335\n",
            "Non-trainable params: 0\n",
            "_________________________________________________________________\n",
            "None\n"
          ],
          "name": "stdout"
        }
      ]
    },
    {
      "cell_type": "code",
      "metadata": {
        "colab_type": "code",
        "id": "AIg2f1HBxqof",
        "outputId": "e566dde6-0e99-4264-fec1-24271b202c09",
        "colab": {
          "base_uri": "https://localhost:8080/",
          "height": 1000
        }
      },
      "source": [
        " history = model.fit(predictors, label, epochs=100, verbose=1)"
      ],
      "execution_count": 0,
      "outputs": [
        {
          "output_type": "stream",
          "text": [
            "Epoch 1/100\n",
            "484/484 [==============================] - 7s 14ms/step - loss: 6.8062 - accuracy: 0.0218\n",
            "Epoch 2/100\n",
            "484/484 [==============================] - 7s 14ms/step - loss: 6.4697 - accuracy: 0.0264\n",
            "Epoch 3/100\n",
            "484/484 [==============================] - 7s 14ms/step - loss: 6.2945 - accuracy: 0.0322\n",
            "Epoch 4/100\n",
            "484/484 [==============================] - 7s 14ms/step - loss: 6.1466 - accuracy: 0.0366\n",
            "Epoch 5/100\n",
            "484/484 [==============================] - 7s 14ms/step - loss: 6.0075 - accuracy: 0.0418\n",
            "Epoch 6/100\n",
            "484/484 [==============================] - 7s 14ms/step - loss: 5.8741 - accuracy: 0.0457\n",
            "Epoch 7/100\n",
            "484/484 [==============================] - 7s 14ms/step - loss: 5.7490 - accuracy: 0.0486\n",
            "Epoch 8/100\n",
            "484/484 [==============================] - 7s 14ms/step - loss: 5.6194 - accuracy: 0.0519\n",
            "Epoch 9/100\n",
            "484/484 [==============================] - 7s 14ms/step - loss: 5.4837 - accuracy: 0.0581\n",
            "Epoch 10/100\n",
            "484/484 [==============================] - 7s 14ms/step - loss: 5.3467 - accuracy: 0.0623\n",
            "Epoch 11/100\n",
            "484/484 [==============================] - 7s 14ms/step - loss: 5.2090 - accuracy: 0.0711\n",
            "Epoch 12/100\n",
            "484/484 [==============================] - 7s 14ms/step - loss: 5.0708 - accuracy: 0.0798\n",
            "Epoch 13/100\n",
            "484/484 [==============================] - 7s 14ms/step - loss: 4.9326 - accuracy: 0.0852\n",
            "Epoch 14/100\n",
            "484/484 [==============================] - 7s 14ms/step - loss: 4.7931 - accuracy: 0.0927\n",
            "Epoch 15/100\n",
            "484/484 [==============================] - 7s 14ms/step - loss: 4.6587 - accuracy: 0.0971\n",
            "Epoch 16/100\n",
            "484/484 [==============================] - 7s 14ms/step - loss: 4.5267 - accuracy: 0.1047\n",
            "Epoch 17/100\n",
            "484/484 [==============================] - 7s 14ms/step - loss: 4.3780 - accuracy: 0.1127\n",
            "Epoch 18/100\n",
            "484/484 [==============================] - 7s 14ms/step - loss: 4.2359 - accuracy: 0.1229\n",
            "Epoch 19/100\n",
            "484/484 [==============================] - 7s 14ms/step - loss: 4.0939 - accuracy: 0.1358\n",
            "Epoch 20/100\n",
            "484/484 [==============================] - 7s 14ms/step - loss: 3.9592 - accuracy: 0.1479\n",
            "Epoch 21/100\n",
            "484/484 [==============================] - 7s 14ms/step - loss: 3.8160 - accuracy: 0.1651\n",
            "Epoch 22/100\n",
            "484/484 [==============================] - 7s 14ms/step - loss: 3.6826 - accuracy: 0.1833\n",
            "Epoch 23/100\n",
            "484/484 [==============================] - 7s 14ms/step - loss: 3.5468 - accuracy: 0.2068\n",
            "Epoch 24/100\n",
            "484/484 [==============================] - 7s 14ms/step - loss: 3.4199 - accuracy: 0.2182\n",
            "Epoch 25/100\n",
            "484/484 [==============================] - 7s 14ms/step - loss: 3.2750 - accuracy: 0.2476\n",
            "Epoch 26/100\n",
            "484/484 [==============================] - 7s 14ms/step - loss: 3.1695 - accuracy: 0.2623\n",
            "Epoch 27/100\n",
            "484/484 [==============================] - 7s 14ms/step - loss: 3.0203 - accuracy: 0.2895\n",
            "Epoch 28/100\n",
            "484/484 [==============================] - 7s 14ms/step - loss: 2.9137 - accuracy: 0.3105\n",
            "Epoch 29/100\n",
            "484/484 [==============================] - 7s 14ms/step - loss: 2.7813 - accuracy: 0.3349\n",
            "Epoch 30/100\n",
            "484/484 [==============================] - 7s 14ms/step - loss: 2.6657 - accuracy: 0.3567\n",
            "Epoch 31/100\n",
            "484/484 [==============================] - 7s 14ms/step - loss: 2.5434 - accuracy: 0.3815\n",
            "Epoch 32/100\n",
            "484/484 [==============================] - 7s 14ms/step - loss: 2.4423 - accuracy: 0.4044\n",
            "Epoch 33/100\n",
            "484/484 [==============================] - 7s 14ms/step - loss: 2.3264 - accuracy: 0.4267\n",
            "Epoch 34/100\n",
            "484/484 [==============================] - 7s 14ms/step - loss: 2.2239 - accuracy: 0.4543\n",
            "Epoch 35/100\n",
            "484/484 [==============================] - 7s 14ms/step - loss: 2.1292 - accuracy: 0.4715\n",
            "Epoch 36/100\n",
            "484/484 [==============================] - 7s 14ms/step - loss: 2.0248 - accuracy: 0.4917\n",
            "Epoch 37/100\n",
            "484/484 [==============================] - 7s 14ms/step - loss: 1.9333 - accuracy: 0.5183\n",
            "Epoch 38/100\n",
            "484/484 [==============================] - 7s 14ms/step - loss: 1.8421 - accuracy: 0.5417\n",
            "Epoch 39/100\n",
            "484/484 [==============================] - 7s 14ms/step - loss: 1.7708 - accuracy: 0.5590\n",
            "Epoch 40/100\n",
            "484/484 [==============================] - 7s 14ms/step - loss: 1.7006 - accuracy: 0.5692\n",
            "Epoch 41/100\n",
            "484/484 [==============================] - 7s 14ms/step - loss: 1.6302 - accuracy: 0.5855\n",
            "Epoch 42/100\n",
            "484/484 [==============================] - 7s 14ms/step - loss: 1.5488 - accuracy: 0.6079\n",
            "Epoch 43/100\n",
            "484/484 [==============================] - 7s 14ms/step - loss: 1.4990 - accuracy: 0.6190\n",
            "Epoch 44/100\n",
            "484/484 [==============================] - 7s 14ms/step - loss: 1.4443 - accuracy: 0.6301\n",
            "Epoch 45/100\n",
            "484/484 [==============================] - 7s 14ms/step - loss: 1.3891 - accuracy: 0.6439\n",
            "Epoch 46/100\n",
            "484/484 [==============================] - 7s 14ms/step - loss: 1.3339 - accuracy: 0.6590\n",
            "Epoch 47/100\n",
            "484/484 [==============================] - 7s 14ms/step - loss: 1.2920 - accuracy: 0.6676\n",
            "Epoch 48/100\n",
            "484/484 [==============================] - 7s 14ms/step - loss: 1.2390 - accuracy: 0.6822\n",
            "Epoch 49/100\n",
            "484/484 [==============================] - 7s 14ms/step - loss: 1.1879 - accuracy: 0.6947\n",
            "Epoch 50/100\n",
            "484/484 [==============================] - 7s 14ms/step - loss: 1.1427 - accuracy: 0.7072\n",
            "Epoch 51/100\n",
            "484/484 [==============================] - 7s 14ms/step - loss: 1.1451 - accuracy: 0.7033\n",
            "Epoch 52/100\n",
            "484/484 [==============================] - 7s 14ms/step - loss: 1.1167 - accuracy: 0.7091\n",
            "Epoch 53/100\n",
            "484/484 [==============================] - 7s 14ms/step - loss: 1.0888 - accuracy: 0.7160\n",
            "Epoch 54/100\n",
            "484/484 [==============================] - 7s 14ms/step - loss: 1.0259 - accuracy: 0.7328\n",
            "Epoch 55/100\n",
            "484/484 [==============================] - 7s 14ms/step - loss: 1.0177 - accuracy: 0.7350\n",
            "Epoch 56/100\n",
            "484/484 [==============================] - 7s 14ms/step - loss: 0.9843 - accuracy: 0.7430\n",
            "Epoch 57/100\n",
            "484/484 [==============================] - 7s 14ms/step - loss: 0.9568 - accuracy: 0.7482\n",
            "Epoch 58/100\n",
            "484/484 [==============================] - 7s 14ms/step - loss: 0.9526 - accuracy: 0.7509\n",
            "Epoch 59/100\n",
            "484/484 [==============================] - 7s 14ms/step - loss: 0.9275 - accuracy: 0.7582\n",
            "Epoch 60/100\n",
            "484/484 [==============================] - 7s 14ms/step - loss: 0.9316 - accuracy: 0.7526\n",
            "Epoch 61/100\n",
            "484/484 [==============================] - 7s 14ms/step - loss: 0.8968 - accuracy: 0.7604\n",
            "Epoch 62/100\n",
            "484/484 [==============================] - 7s 14ms/step - loss: 0.8932 - accuracy: 0.7632\n",
            "Epoch 63/100\n",
            "484/484 [==============================] - 7s 14ms/step - loss: 0.8529 - accuracy: 0.7723\n",
            "Epoch 64/100\n",
            "484/484 [==============================] - 7s 14ms/step - loss: 0.8329 - accuracy: 0.7812\n",
            "Epoch 65/100\n",
            "484/484 [==============================] - 7s 14ms/step - loss: 0.8403 - accuracy: 0.7754\n",
            "Epoch 66/100\n",
            "484/484 [==============================] - 7s 14ms/step - loss: 0.8383 - accuracy: 0.7754\n",
            "Epoch 67/100\n",
            "484/484 [==============================] - 7s 14ms/step - loss: 0.8080 - accuracy: 0.7853\n",
            "Epoch 68/100\n",
            "484/484 [==============================] - 7s 14ms/step - loss: 0.7890 - accuracy: 0.7893\n",
            "Epoch 69/100\n",
            "484/484 [==============================] - 7s 14ms/step - loss: 0.7791 - accuracy: 0.7928\n",
            "Epoch 70/100\n",
            "484/484 [==============================] - 7s 14ms/step - loss: 0.7568 - accuracy: 0.7974\n",
            "Epoch 71/100\n",
            "484/484 [==============================] - 7s 14ms/step - loss: 0.8009 - accuracy: 0.7831\n",
            "Epoch 72/100\n",
            "484/484 [==============================] - 7s 14ms/step - loss: 0.7595 - accuracy: 0.7949\n",
            "Epoch 73/100\n",
            "484/484 [==============================] - 7s 14ms/step - loss: 0.7456 - accuracy: 0.7957\n",
            "Epoch 74/100\n",
            "484/484 [==============================] - 7s 14ms/step - loss: 0.7301 - accuracy: 0.8027\n",
            "Epoch 75/100\n",
            "484/484 [==============================] - 7s 14ms/step - loss: 0.7330 - accuracy: 0.8035\n",
            "Epoch 76/100\n",
            "484/484 [==============================] - 7s 14ms/step - loss: 0.7580 - accuracy: 0.7935\n",
            "Epoch 77/100\n",
            "484/484 [==============================] - 7s 14ms/step - loss: 0.7238 - accuracy: 0.8031\n",
            "Epoch 78/100\n",
            "484/484 [==============================] - 7s 14ms/step - loss: 0.7116 - accuracy: 0.8046\n",
            "Epoch 79/100\n",
            "484/484 [==============================] - 7s 14ms/step - loss: 0.7032 - accuracy: 0.8062\n",
            "Epoch 80/100\n",
            "484/484 [==============================] - 7s 14ms/step - loss: 0.7021 - accuracy: 0.8075\n",
            "Epoch 81/100\n",
            "484/484 [==============================] - 7s 14ms/step - loss: 0.6939 - accuracy: 0.8111\n",
            "Epoch 82/100\n",
            "484/484 [==============================] - 7s 14ms/step - loss: 0.7009 - accuracy: 0.8084\n",
            "Epoch 83/100\n",
            "484/484 [==============================] - 7s 14ms/step - loss: 0.6842 - accuracy: 0.8119\n",
            "Epoch 84/100\n",
            "484/484 [==============================] - 7s 14ms/step - loss: 0.6676 - accuracy: 0.8150\n",
            "Epoch 85/100\n",
            "484/484 [==============================] - 7s 14ms/step - loss: 0.6726 - accuracy: 0.8180\n",
            "Epoch 86/100\n",
            "484/484 [==============================] - 7s 14ms/step - loss: 0.6852 - accuracy: 0.8091\n",
            "Epoch 87/100\n",
            "484/484 [==============================] - 7s 14ms/step - loss: 0.6633 - accuracy: 0.8154\n",
            "Epoch 88/100\n",
            "484/484 [==============================] - 7s 14ms/step - loss: 0.6515 - accuracy: 0.8199\n",
            "Epoch 89/100\n",
            "484/484 [==============================] - 7s 14ms/step - loss: 0.6511 - accuracy: 0.8190\n",
            "Epoch 90/100\n",
            "484/484 [==============================] - 7s 14ms/step - loss: 0.6743 - accuracy: 0.8141\n",
            "Epoch 91/100\n",
            "484/484 [==============================] - 7s 14ms/step - loss: 0.6551 - accuracy: 0.8165\n",
            "Epoch 92/100\n",
            "484/484 [==============================] - 7s 14ms/step - loss: 0.6579 - accuracy: 0.8170\n",
            "Epoch 93/100\n",
            "484/484 [==============================] - 7s 14ms/step - loss: 0.6490 - accuracy: 0.8199\n",
            "Epoch 94/100\n",
            "484/484 [==============================] - 7s 14ms/step - loss: 0.6325 - accuracy: 0.8229\n",
            "Epoch 95/100\n",
            "484/484 [==============================] - 7s 14ms/step - loss: 0.6257 - accuracy: 0.8265\n",
            "Epoch 96/100\n",
            "484/484 [==============================] - 7s 14ms/step - loss: 0.6082 - accuracy: 0.8282\n",
            "Epoch 97/100\n",
            "484/484 [==============================] - 7s 14ms/step - loss: 0.6202 - accuracy: 0.8262\n",
            "Epoch 98/100\n",
            "484/484 [==============================] - 7s 14ms/step - loss: 0.6379 - accuracy: 0.8202\n",
            "Epoch 99/100\n",
            "484/484 [==============================] - 7s 13ms/step - loss: 0.6198 - accuracy: 0.8261\n",
            "Epoch 100/100\n",
            "484/484 [==============================] - 7s 14ms/step - loss: 0.6213 - accuracy: 0.8254\n"
          ],
          "name": "stdout"
        }
      ]
    },
    {
      "cell_type": "code",
      "metadata": {
        "colab_type": "code",
        "id": "1fXTEO3GJ282",
        "outputId": "d167a2ac-4ec6-4e92-d480-4ab1ae09a167",
        "colab": {
          "base_uri": "https://localhost:8080/",
          "height": 545
        }
      },
      "source": [
        "import matplotlib.pyplot as plt\n",
        "acc = history.history['accuracy']\n",
        "loss = history.history['loss']\n",
        "\n",
        "epochs = range(len(acc))\n",
        "\n",
        "plt.plot(epochs, acc, 'b', label='Training accuracy')\n",
        "plt.title('Training accuracy')\n",
        "\n",
        "plt.figure()\n",
        "\n",
        "plt.plot(epochs, loss, 'b', label='Training Loss')\n",
        "plt.title('Training loss')\n",
        "plt.legend()\n",
        "\n",
        "plt.show()"
      ],
      "execution_count": 0,
      "outputs": [
        {
          "output_type": "display_data",
          "data": {
            "image/png": "[encoded data removed]",
            "text/plain": [
              "<Figure size 432x288 with 1 Axes>"
            ]
          },
          "metadata": {
            "tags": [],
            "needs_background": "light"
          }
        },
        {
          "output_type": "display_data",
          "data": {
            "image/png": "[encoded data removed]",
            "text/plain": [
              "<Figure size 432x288 with 1 Axes>"
            ]
          },
          "metadata": {
            "tags": [],
            "needs_background": "light"
          }
        }
      ]
    },
    {
      "cell_type": "code",
      "metadata": {
        "colab_type": "code",
        "id": "6Vc6PHgxa6Hm",
        "outputId": "f3ecc1ed-c6a2-4f31-eaa5-cadfdb268778",
        "colab": {
          "base_uri": "https://localhost:8080/",
          "height": 55
        }
      },
      "source": [
        "seed_text = \"Help me Obi Wan Kenobi, you're my only hope\"\n",
        "next_words = 100\n",
        "  \n",
        "for _ in range(next_words):\n",
        "\ttoken_list = tokenizer.texts_to_sequences([seed_text])[0]\n",
        "\ttoken_list = pad_sequences([token_list], maxlen=max_sequence_len-1, padding='pre')\n",
        "\tpredicted = model.predict_classes(token_list, verbose=0)\n",
        "\toutput_word = \"\"\n",
        "\tfor word, index in tokenizer.word_index.items():\n",
        "\t\tif index == predicted:\n",
        "\t\t\toutput_word = word\n",
        "\t\t\tbreak\n",
        "\tseed_text += \" \" + output_word\n",
        "print(seed_text)"
      ],
      "execution_count": 0,
      "outputs": [
        {
          "output_type": "stream",
          "text": [
            "Help me Obi Wan Kenobi, you're my only hope in thee alone in thee me so live be sort well bring thee thee convertest thee thee so live again into the same love thee hence thee thee ' a due so men ill bold can show of both me bright thee so back bright me green thee so eyes you live so eyes can you can see thee back so me be live still live so eyes can see thee hence not so gone me to me being me can say a 'will' of time and thee back so ' so lie me me and thee convertest me '\n"
          ],
          "name": "stdout"
        }
      ]
    },
    {
      "cell_type": "code",
      "metadata": {
        "id": "sD437IWRVhEG",
        "colab_type": "code",
        "colab": {}
      },
      "source": [
        ""
      ],
      "execution_count": 0,
      "outputs": []
    }
  ]
}