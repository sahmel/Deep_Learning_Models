{
  "nbformat": 4,
  "nbformat_minor": 0,
  "metadata": {
    "colab": {
      "name": "Sign_MNIST_Conv2D.ipynb",
      "provenance": [],
      "include_colab_link": true
    },
    "kernelspec": {
      "display_name": "Python 3",
      "name": "python3"
    }
  },
  "cells": [
    {
      "cell_type": "markdown",
      "metadata": {
        "id": "view-in-github",
        "colab_type": "text"
      },
      "source": [
        "<a href=\"https://colab.research.google.com/github/sahmel/Deep_Learning_Models/blob/master/Sign_MNIST_Conv2D.ipynb\" target=\"_parent\"><img src=\"https://colab.research.google.com/assets/colab-badge.svg\" alt=\"Open In Colab\"/></a>"
      ]
    },
    {
      "cell_type": "code",
      "metadata": {
        "id": "zX4Kg8DUTKWO",
        "colab_type": "code",
        "colab": {}
      },
      "source": [
        "#@title Licensed under the Apache License, Version 2.0 (the \"License\");\n",
        "# you may not use this file except in compliance with the License.\n",
        "# You may obtain a copy of the License at\n",
        "#\n",
        "# https://www.apache.org/licenses/LICENSE-2.0\n",
        "#\n",
        "# Unless required by applicable law or agreed to in writing, software\n",
        "# distributed under the License is distributed on an \"AS IS\" BASIS,\n",
        "# WITHOUT WARRANTIES OR CONDITIONS OF ANY KIND, either express or implied.\n",
        "# See the License for the specific language governing permissions and\n",
        "# limitations under the License."
      ],
      "execution_count": 0,
      "outputs": []
    },
    {
      "cell_type": "code",
      "metadata": {
        "colab_type": "code",
        "id": "wYtuKeK0dImp",
        "colab": {}
      },
      "source": [
        "import csv\n",
        "import numpy as np\n",
        "import tensorflow as tf\n",
        "from tensorflow.keras.preprocessing.image import ImageDataGenerator\n",
        "from google.colab import files"
      ],
      "execution_count": 0,
      "outputs": []
    },
    {
      "cell_type": "markdown",
      "metadata": {
        "colab_type": "text",
        "id": "EmMyh9_mkDHF"
      },
      "source": [
        "The data for this model is available at: https://www.kaggle.com/datamunge/sign-language-mnist/home\n",
        "\n",
        "Sign up and download to find 2 CSV files: sign_mnist_test.csv and sign_mnist_train.csv -- You will upload both of them using this button before you can continue.\n"
      ]
    },
    {
      "cell_type": "code",
      "metadata": {
        "colab_type": "code",
        "id": "IcLOZlnnc_N7",
        "outputId": "529ad645-89ed-4d76-862a-933c6ae95830",
        "colab": {
          "resources": {
            "http://localhost:8080/nbextensions/google.colab/files.js": {
              "data": "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",
              "ok": true,
              "headers": [
                [
                  "content-type",
                  "application/javascript"
                ]
              ],
              "status": 200,
              "status_text": ""
            }
          },
          "base_uri": "https://localhost:8080/",
          "height": 106
        }
      },
      "source": [
        "uploaded=files.upload()"
      ],
      "execution_count": 0,
      "outputs": [
        {
          "output_type": "display_data",
          "data": {
            "text/html": [
              "\n",
              "     <input type=\"file\" id=\"files-b3ec6d54-72b0-4137-a05b-d329ae3e6917\" name=\"files[]\" multiple disabled />\n",
              "     <output id=\"result-b3ec6d54-72b0-4137-a05b-d329ae3e6917\">\n",
              "      Upload widget is only available when the cell has been executed in the\n",
              "      current browser session. Please rerun this cell to enable.\n",
              "      </output>\n",
              "      <script src=\"/nbextensions/google.colab/files.js\"></script> "
            ],
            "text/plain": [
              "<IPython.core.display.HTML object>"
            ]
          },
          "metadata": {
            "tags": []
          }
        },
        {
          "output_type": "stream",
          "text": [
            "Saving sign_mnist_test.csv to sign_mnist_test.csv\n",
            "Saving sign_mnist_train.csv to sign_mnist_train.csv\n"
          ],
          "name": "stdout"
        }
      ]
    },
    {
      "cell_type": "code",
      "metadata": {
        "colab_type": "code",
        "id": "4kxw-_rmcnVu",
        "outputId": "52855aa5-3568-4b17-9e61-afb4178cc437",
        "colab": {
          "base_uri": "https://localhost:8080/",
          "height": 86
        }
      },
      "source": [
        "def get_data(filename):\n",
        "  # You will need to write code that will read the file passed\n",
        "  # into this function. The first line contains the column headers\n",
        "  # so you should ignore it\n",
        "  # Each successive line contians 785 comma separated values between 0 and 255\n",
        "  # The first value is the label\n",
        "  # The rest are the pixel values for that picture\n",
        "  # The function will return 2 np.array types. One with all the labels\n",
        "  # One with all the images\n",
        "  #\n",
        "  # Tips: \n",
        "  # If you read a full line (as 'row') then row[0] has the label\n",
        "  # and row[1:785] has the 784 pixel values\n",
        "  # Take a look at np.array_split to turn the 784 pixels into 28x28\n",
        "  # You are reading in strings, but need the values to be floats\n",
        "  # Check out np.array().astype for a conversion\n",
        "    with open(filename) as training_file:\n",
        "        reader = csv.reader(training_file, delimiter=',')    \n",
        "        imgs = []\n",
        "        labels = []\n",
        "\n",
        "        next(reader, None)\n",
        "        \n",
        "        for row in reader:\n",
        "            label = row[0]\n",
        "            data = row[1:]\n",
        "            img = np.array(data).reshape((28, 28))\n",
        "\n",
        "            imgs.append(img)\n",
        "            labels.append(label)\n",
        "\n",
        "        images = np.array(imgs).astype(float)\n",
        "        labels = np.array(labels).astype(float)\n",
        "            \n",
        "    return images, labels\n",
        "\n",
        "training_images, training_labels = get_data('sign_mnist_train.csv')\n",
        "testing_images, testing_labels = get_data('sign_mnist_test.csv')\n",
        "\n",
        "# Keep these\n",
        "print(training_images.shape)\n",
        "print(training_labels.shape)\n",
        "print(testing_images.shape)\n",
        "print(testing_labels.shape)\n",
        "\n",
        "# Output should be:\n",
        "# (27455, 28, 28)\n",
        "# (27455,)\n",
        "# (7172, 28, 28)\n",
        "# (7172,)"
      ],
      "execution_count": 0,
      "outputs": [
        {
          "output_type": "stream",
          "text": [
            "(27455, 28, 28)\n",
            "(27455,)\n",
            "(7172, 28, 28)\n",
            "(7172,)\n"
          ],
          "name": "stdout"
        }
      ]
    },
    {
      "cell_type": "code",
      "metadata": {
        "colab_type": "code",
        "id": "awoqRpyZdQkD",
        "outputId": "94a4b32b-d9a6-4f0e-b5f8-5b29450c087f",
        "colab": {
          "base_uri": "https://localhost:8080/",
          "height": 52
        }
      },
      "source": [
        "training_images = np.expand_dims(training_images, axis=3)\n",
        "testing_images = np.expand_dims(testing_images, axis=3)\n",
        "\n",
        "\n",
        "# Create an ImageDataGenerator and do Image Augmentation\n",
        "train_datagen = ImageDataGenerator(rescale = 1./255.,\n",
        "                                   rotation_range = 40,\n",
        "                                   width_shift_range = 0.2,\n",
        "                                   height_shift_range = 0.2,\n",
        "                                   shear_range = 0.2,\n",
        "                                   zoom_range = 0.2,\n",
        "                                   horizontal_flip = True)\n",
        "\n",
        "validation_datagen = ImageDataGenerator(rescale = 1./255.)\n",
        "    \n",
        "print(training_images.shape)\n",
        "print(testing_images.shape)\n",
        "    \n",
        "# Output should be:\n",
        "# (27455, 28, 28, 1)\n",
        "# (7172, 28, 28, 1)"
      ],
      "execution_count": 0,
      "outputs": [
        {
          "output_type": "stream",
          "text": [
            "(27455, 28, 28, 1)\n",
            "(7172, 28, 28, 1)\n"
          ],
          "name": "stdout"
        }
      ]
    },
    {
      "cell_type": "code",
      "metadata": {
        "id": "lBGcsJFfaH11",
        "colab_type": "code",
        "colab": {}
      },
      "source": [
        "# Define a Callback class that stops training once accuracy reaches 99.9%\n",
        "class myCallback(tf.keras.callbacks.Callback):\n",
        "  def on_epoch_end(self, epoch, logs={}):\n",
        "    if(logs.get('acc')>0.999):\n",
        "      print(\"\\nReached 99.9% accuracy so cancelling training!\")\n",
        "      self.model.stop_training = True\n",
        "\n",
        "callbacks = myCallback()"
      ],
      "execution_count": 0,
      "outputs": []
    },
    {
      "cell_type": "code",
      "metadata": {
        "id": "xuNlvKr2aOdd",
        "colab_type": "code",
        "outputId": "4bc76124-129a-4f26-cb35-69f24ecad485",
        "colab": {
          "base_uri": "https://localhost:8080/",
          "height": 1000
        }
      },
      "source": [
        "model = tf.keras.models.Sequential([\n",
        "    tf.keras.layers.Conv2D(16, (3,3), activation='relu', input_shape=(28, 28, 1)),\n",
        "    tf.keras.layers.MaxPooling2D(2, 2),\n",
        "\n",
        "    tf.keras.layers.Conv2D(32, (3,3), activation='relu'),\n",
        "    tf.keras.layers.MaxPooling2D(2,2),\n",
        "    \n",
        "    tf.keras.layers.Conv2D(64, (3,3), activation='relu'),\n",
        "\n",
        "    tf.keras.layers.Conv2D(128, (3,3), activation='relu'),\n",
        "    \n",
        "    tf.keras.layers.Flatten(),\n",
        "    tf.keras.layers.Dense(512, activation='relu'),\n",
        "    tf.keras.layers.Dropout(0.2),\n",
        "    tf.keras.layers.Dense(26, activation='softmax')]\n",
        "    )\n",
        "\n",
        "# Compile Model. \n",
        "model.compile(loss='sparse_categorical_crossentropy',\n",
        "              optimizer='adam',\n",
        "              metrics=['acc'])\n",
        "\n",
        "model.summary()\n",
        "\n",
        "# Configure generators\n",
        "training_generator = train_datagen.flow(training_images, training_labels, batch_size=64)\n",
        "validation_generator = validation_datagen.flow(testing_images, testing_labels, batch_size=64)\n",
        "\n",
        "# Train the Model\n",
        "history = model.fit_generator(training_generator, validation_data=validation_generator, epochs=100, \n",
        "                              verbose=1, callbacks=[callbacks])\n",
        "\n",
        "model.evaluate(testing_images, testing_labels, verbose=0)"
      ],
      "execution_count": 0,
      "outputs": [
        {
          "output_type": "stream",
          "text": [
            "Model: \"sequential_3\"\n",
            "_________________________________________________________________\n",
            "Layer (type)                 Output Shape              Param #   \n",
            "=================================================================\n",
            "conv2d_12 (Conv2D)           (None, 26, 26, 16)        160       \n",
            "_________________________________________________________________\n",
            "max_pooling2d_10 (MaxPooling (None, 13, 13, 16)        0         \n",
            "_________________________________________________________________\n",
            "conv2d_13 (Conv2D)           (None, 11, 11, 32)        4640      \n",
            "_________________________________________________________________\n",
            "max_pooling2d_11 (MaxPooling (None, 5, 5, 32)          0         \n",
            "_________________________________________________________________\n",
            "conv2d_14 (Conv2D)           (None, 3, 3, 64)          18496     \n",
            "_________________________________________________________________\n",
            "conv2d_15 (Conv2D)           (None, 1, 1, 128)         73856     \n",
            "_________________________________________________________________\n",
            "flatten_3 (Flatten)          (None, 128)               0         \n",
            "_________________________________________________________________\n",
            "dense_6 (Dense)              (None, 512)               66048     \n",
            "_________________________________________________________________\n",
            "dropout_3 (Dropout)          (None, 512)               0         \n",
            "_________________________________________________________________\n",
            "dense_7 (Dense)              (None, 26)                13338     \n",
            "=================================================================\n",
            "Total params: 176,538\n",
            "Trainable params: 176,538\n",
            "Non-trainable params: 0\n",
            "_________________________________________________________________\n",
            "WARNING:tensorflow:From <ipython-input-12-b57f99ae0349>:31: Model.fit_generator (from tensorflow.python.keras.engine.training) is deprecated and will be removed in a future version.\n",
            "Instructions for updating:\n",
            "Please use Model.fit, which supports generators.\n",
            "Epoch 1/100\n",
            "429/429 [==============================] - 26s 60ms/step - loss: 2.9486 - acc: 0.0975 - val_loss: 2.4671 - val_acc: 0.1615\n",
            "Epoch 2/100\n",
            "429/429 [==============================] - 25s 59ms/step - loss: 2.3544 - acc: 0.2407 - val_loss: 1.7722 - val_acc: 0.4024\n",
            "Epoch 3/100\n",
            "429/429 [==============================] - 25s 59ms/step - loss: 1.9325 - acc: 0.3568 - val_loss: 1.3738 - val_acc: 0.5018\n",
            "Epoch 4/100\n",
            "429/429 [==============================] - 25s 59ms/step - loss: 1.6203 - acc: 0.4491 - val_loss: 1.2765 - val_acc: 0.5252\n",
            "Epoch 5/100\n",
            "429/429 [==============================] - 25s 58ms/step - loss: 1.3800 - acc: 0.5246 - val_loss: 1.0636 - val_acc: 0.6207\n",
            "Epoch 6/100\n",
            "429/429 [==============================] - 25s 59ms/step - loss: 1.2343 - acc: 0.5742 - val_loss: 0.8754 - val_acc: 0.6682\n",
            "Epoch 7/100\n",
            "429/429 [==============================] - 25s 59ms/step - loss: 1.0979 - acc: 0.6168 - val_loss: 0.9110 - val_acc: 0.6800\n",
            "Epoch 8/100\n",
            "429/429 [==============================] - 26s 60ms/step - loss: 1.0212 - acc: 0.6442 - val_loss: 0.6380 - val_acc: 0.7538\n",
            "Epoch 9/100\n",
            "429/429 [==============================] - 25s 59ms/step - loss: 0.9295 - acc: 0.6777 - val_loss: 0.7199 - val_acc: 0.7377\n",
            "Epoch 10/100\n",
            "429/429 [==============================] - 25s 59ms/step - loss: 0.8658 - acc: 0.6963 - val_loss: 0.7160 - val_acc: 0.7503\n",
            "Epoch 11/100\n",
            "429/429 [==============================] - 26s 60ms/step - loss: 0.8025 - acc: 0.7187 - val_loss: 0.4814 - val_acc: 0.8310\n",
            "Epoch 12/100\n",
            "429/429 [==============================] - 25s 59ms/step - loss: 0.7504 - acc: 0.7377 - val_loss: 0.4636 - val_acc: 0.8179\n",
            "Epoch 13/100\n",
            "429/429 [==============================] - 26s 60ms/step - loss: 0.7004 - acc: 0.7556 - val_loss: 0.3983 - val_acc: 0.8625\n",
            "Epoch 14/100\n",
            "429/429 [==============================] - 26s 61ms/step - loss: 0.6652 - acc: 0.7671 - val_loss: 0.3466 - val_acc: 0.8733\n",
            "Epoch 15/100\n",
            "429/429 [==============================] - 26s 61ms/step - loss: 0.6381 - acc: 0.7783 - val_loss: 0.3086 - val_acc: 0.8872\n",
            "Epoch 16/100\n",
            "429/429 [==============================] - 26s 61ms/step - loss: 0.6038 - acc: 0.7910 - val_loss: 0.3432 - val_acc: 0.8699\n",
            "Epoch 17/100\n",
            "429/429 [==============================] - 25s 59ms/step - loss: 0.5654 - acc: 0.8039 - val_loss: 0.2409 - val_acc: 0.9216\n",
            "Epoch 18/100\n",
            "429/429 [==============================] - 25s 59ms/step - loss: 0.5515 - acc: 0.8054 - val_loss: 0.2565 - val_acc: 0.9024\n",
            "Epoch 19/100\n",
            "429/429 [==============================] - 26s 60ms/step - loss: 0.5264 - acc: 0.8186 - val_loss: 0.2517 - val_acc: 0.9071\n",
            "Epoch 20/100\n",
            "429/429 [==============================] - 25s 59ms/step - loss: 0.5060 - acc: 0.8230 - val_loss: 0.2742 - val_acc: 0.9057\n",
            "Epoch 21/100\n",
            "429/429 [==============================] - 26s 62ms/step - loss: 0.4935 - acc: 0.8290 - val_loss: 0.2536 - val_acc: 0.9044\n",
            "Epoch 22/100\n",
            "429/429 [==============================] - 27s 62ms/step - loss: 0.4801 - acc: 0.8325 - val_loss: 0.2874 - val_acc: 0.8864\n",
            "Epoch 23/100\n",
            "429/429 [==============================] - 27s 64ms/step - loss: 0.4491 - acc: 0.8452 - val_loss: 0.2486 - val_acc: 0.9095\n",
            "Epoch 24/100\n",
            "429/429 [==============================] - 26s 62ms/step - loss: 0.4442 - acc: 0.8434 - val_loss: 0.2144 - val_acc: 0.9216\n",
            "Epoch 25/100\n",
            "429/429 [==============================] - 26s 60ms/step - loss: 0.4348 - acc: 0.8501 - val_loss: 0.1983 - val_acc: 0.9274\n",
            "Epoch 26/100\n",
            "429/429 [==============================] - 27s 62ms/step - loss: 0.4103 - acc: 0.8574 - val_loss: 0.2160 - val_acc: 0.9229\n",
            "Epoch 27/100\n",
            "429/429 [==============================] - 26s 61ms/step - loss: 0.4120 - acc: 0.8573 - val_loss: 0.1534 - val_acc: 0.9523\n",
            "Epoch 28/100\n",
            "429/429 [==============================] - 26s 60ms/step - loss: 0.3939 - acc: 0.8620 - val_loss: 0.1655 - val_acc: 0.9463\n",
            "Epoch 29/100\n",
            "429/429 [==============================] - 26s 59ms/step - loss: 0.3842 - acc: 0.8684 - val_loss: 0.2204 - val_acc: 0.9159\n",
            "Epoch 30/100\n",
            "429/429 [==============================] - 26s 60ms/step - loss: 0.3683 - acc: 0.8736 - val_loss: 0.1391 - val_acc: 0.9532\n",
            "Epoch 31/100\n",
            "429/429 [==============================] - 26s 62ms/step - loss: 0.3623 - acc: 0.8761 - val_loss: 0.1778 - val_acc: 0.9367\n",
            "Epoch 32/100\n",
            "429/429 [==============================] - 26s 61ms/step - loss: 0.3579 - acc: 0.8756 - val_loss: 0.2087 - val_acc: 0.9290\n",
            "Epoch 33/100\n",
            "429/429 [==============================] - 27s 62ms/step - loss: 0.3580 - acc: 0.8750 - val_loss: 0.1178 - val_acc: 0.9541\n",
            "Epoch 34/100\n",
            "429/429 [==============================] - 26s 61ms/step - loss: 0.3264 - acc: 0.8882 - val_loss: 0.1540 - val_acc: 0.9453\n",
            "Epoch 35/100\n",
            "429/429 [==============================] - 27s 62ms/step - loss: 0.3250 - acc: 0.8885 - val_loss: 0.1146 - val_acc: 0.9660\n",
            "Epoch 36/100\n",
            "429/429 [==============================] - 26s 62ms/step - loss: 0.3205 - acc: 0.8902 - val_loss: 0.1647 - val_acc: 0.9463\n",
            "Epoch 37/100\n",
            "429/429 [==============================] - 26s 61ms/step - loss: 0.3247 - acc: 0.8880 - val_loss: 0.1007 - val_acc: 0.9686\n",
            "Epoch 38/100\n",
            "429/429 [==============================] - 26s 60ms/step - loss: 0.3168 - acc: 0.8934 - val_loss: 0.0857 - val_acc: 0.9711\n",
            "Epoch 39/100\n",
            "429/429 [==============================] - 26s 61ms/step - loss: 0.3122 - acc: 0.8932 - val_loss: 0.0967 - val_acc: 0.9677\n",
            "Epoch 40/100\n",
            "429/429 [==============================] - 27s 62ms/step - loss: 0.3059 - acc: 0.8956 - val_loss: 0.0896 - val_acc: 0.9614\n",
            "Epoch 41/100\n",
            "429/429 [==============================] - 26s 60ms/step - loss: 0.2950 - acc: 0.8981 - val_loss: 0.0972 - val_acc: 0.9614\n",
            "Epoch 42/100\n",
            "429/429 [==============================] - 26s 60ms/step - loss: 0.2903 - acc: 0.9001 - val_loss: 0.0958 - val_acc: 0.9656\n",
            "Epoch 43/100\n",
            "429/429 [==============================] - 26s 61ms/step - loss: 0.2843 - acc: 0.9016 - val_loss: 0.1045 - val_acc: 0.9636\n",
            "Epoch 44/100\n",
            "429/429 [==============================] - 27s 62ms/step - loss: 0.2838 - acc: 0.9019 - val_loss: 0.0956 - val_acc: 0.9723\n",
            "Epoch 45/100\n",
            "429/429 [==============================] - 25s 59ms/step - loss: 0.2824 - acc: 0.9028 - val_loss: 0.1149 - val_acc: 0.9543\n",
            "Epoch 46/100\n",
            "429/429 [==============================] - 26s 62ms/step - loss: 0.2823 - acc: 0.9028 - val_loss: 0.1180 - val_acc: 0.9583\n",
            "Epoch 47/100\n",
            "429/429 [==============================] - 27s 62ms/step - loss: 0.2770 - acc: 0.9034 - val_loss: 0.0932 - val_acc: 0.9713\n",
            "Epoch 48/100\n",
            "429/429 [==============================] - 26s 62ms/step - loss: 0.2786 - acc: 0.9035 - val_loss: 0.0962 - val_acc: 0.9660\n",
            "Epoch 49/100\n",
            "429/429 [==============================] - 26s 61ms/step - loss: 0.2759 - acc: 0.9018 - val_loss: 0.0928 - val_acc: 0.9695\n",
            "Epoch 50/100\n",
            "429/429 [==============================] - 26s 61ms/step - loss: 0.2646 - acc: 0.9091 - val_loss: 0.0777 - val_acc: 0.9718\n",
            "Epoch 51/100\n",
            "429/429 [==============================] - 26s 60ms/step - loss: 0.2597 - acc: 0.9113 - val_loss: 0.1603 - val_acc: 0.9399\n",
            "Epoch 52/100\n",
            "429/429 [==============================] - 26s 62ms/step - loss: 0.2516 - acc: 0.9141 - val_loss: 0.0899 - val_acc: 0.9743\n",
            "Epoch 53/100\n",
            "429/429 [==============================] - 26s 61ms/step - loss: 0.2416 - acc: 0.9170 - val_loss: 0.0927 - val_acc: 0.9675\n",
            "Epoch 54/100\n",
            "429/429 [==============================] - 26s 61ms/step - loss: 0.2491 - acc: 0.9139 - val_loss: 0.1543 - val_acc: 0.9607\n",
            "Epoch 55/100\n",
            "429/429 [==============================] - 25s 59ms/step - loss: 0.2453 - acc: 0.9186 - val_loss: 0.0834 - val_acc: 0.9732\n",
            "Epoch 56/100\n",
            "429/429 [==============================] - 26s 61ms/step - loss: 0.2469 - acc: 0.9153 - val_loss: 0.0727 - val_acc: 0.9679\n",
            "Epoch 57/100\n",
            "429/429 [==============================] - 26s 61ms/step - loss: 0.2450 - acc: 0.9167 - val_loss: 0.0961 - val_acc: 0.9685\n",
            "Epoch 58/100\n",
            "429/429 [==============================] - 26s 61ms/step - loss: 0.2450 - acc: 0.9143 - val_loss: 0.0775 - val_acc: 0.9748\n",
            "Epoch 59/100\n",
            "429/429 [==============================] - 26s 61ms/step - loss: 0.2339 - acc: 0.9184 - val_loss: 0.1012 - val_acc: 0.9689\n",
            "Epoch 60/100\n",
            "429/429 [==============================] - 25s 59ms/step - loss: 0.2322 - acc: 0.9198 - val_loss: 0.0640 - val_acc: 0.9780\n",
            "Epoch 61/100\n",
            "429/429 [==============================] - 25s 59ms/step - loss: 0.2326 - acc: 0.9213 - val_loss: 0.1058 - val_acc: 0.9660\n",
            "Epoch 62/100\n",
            "429/429 [==============================] - 25s 59ms/step - loss: 0.2331 - acc: 0.9221 - val_loss: 0.0820 - val_acc: 0.9749\n",
            "Epoch 63/100\n",
            "429/429 [==============================] - 26s 60ms/step - loss: 0.2282 - acc: 0.9204 - val_loss: 0.0585 - val_acc: 0.9776\n",
            "Epoch 64/100\n",
            "429/429 [==============================] - 26s 60ms/step - loss: 0.2312 - acc: 0.9219 - val_loss: 0.0757 - val_acc: 0.9716\n",
            "Epoch 65/100\n",
            "429/429 [==============================] - 26s 60ms/step - loss: 0.2190 - acc: 0.9247 - val_loss: 0.0502 - val_acc: 0.9817\n",
            "Epoch 66/100\n",
            "429/429 [==============================] - 25s 59ms/step - loss: 0.2162 - acc: 0.9249 - val_loss: 0.0578 - val_acc: 0.9802\n",
            "Epoch 67/100\n",
            "429/429 [==============================] - 26s 61ms/step - loss: 0.2240 - acc: 0.9236 - val_loss: 0.1265 - val_acc: 0.9612\n",
            "Epoch 68/100\n",
            "429/429 [==============================] - 26s 60ms/step - loss: 0.2192 - acc: 0.9260 - val_loss: 0.0736 - val_acc: 0.9743\n",
            "Epoch 69/100\n",
            "429/429 [==============================] - 26s 60ms/step - loss: 0.2118 - acc: 0.9272 - val_loss: 0.1062 - val_acc: 0.9688\n",
            "Epoch 70/100\n",
            "429/429 [==============================] - 26s 61ms/step - loss: 0.2077 - acc: 0.9301 - val_loss: 0.0633 - val_acc: 0.9787\n",
            "Epoch 71/100\n",
            "429/429 [==============================] - 26s 61ms/step - loss: 0.2124 - acc: 0.9294 - val_loss: 0.0754 - val_acc: 0.9763\n",
            "Epoch 72/100\n",
            "429/429 [==============================] - 26s 60ms/step - loss: 0.1943 - acc: 0.9358 - val_loss: 0.0689 - val_acc: 0.9826\n",
            "Epoch 73/100\n",
            "429/429 [==============================] - 26s 60ms/step - loss: 0.2126 - acc: 0.9270 - val_loss: 0.1080 - val_acc: 0.9695\n",
            "Epoch 74/100\n",
            "429/429 [==============================] - 25s 58ms/step - loss: 0.2075 - acc: 0.9301 - val_loss: 0.0957 - val_acc: 0.9769\n",
            "Epoch 75/100\n",
            "429/429 [==============================] - 26s 61ms/step - loss: 0.2060 - acc: 0.9309 - val_loss: 0.0742 - val_acc: 0.9762\n",
            "Epoch 76/100\n",
            "429/429 [==============================] - 26s 60ms/step - loss: 0.2044 - acc: 0.9310 - val_loss: 0.1040 - val_acc: 0.9686\n",
            "Epoch 77/100\n",
            "429/429 [==============================] - 25s 59ms/step - loss: 0.1975 - acc: 0.9322 - val_loss: 0.1280 - val_acc: 0.9682\n",
            "Epoch 78/100\n",
            "429/429 [==============================] - 25s 59ms/step - loss: 0.2115 - acc: 0.9301 - val_loss: 0.0660 - val_acc: 0.9794\n",
            "Epoch 79/100\n",
            "429/429 [==============================] - 26s 60ms/step - loss: 0.2050 - acc: 0.9314 - val_loss: 0.1266 - val_acc: 0.9608\n",
            "Epoch 80/100\n",
            "429/429 [==============================] - 25s 59ms/step - loss: 0.1872 - acc: 0.9348 - val_loss: 0.0362 - val_acc: 0.9887\n",
            "Epoch 81/100\n",
            "429/429 [==============================] - 25s 59ms/step - loss: 0.1931 - acc: 0.9332 - val_loss: 0.0809 - val_acc: 0.9780\n",
            "Epoch 82/100\n",
            "429/429 [==============================] - 25s 58ms/step - loss: 0.1957 - acc: 0.9356 - val_loss: 0.0592 - val_acc: 0.9816\n",
            "Epoch 83/100\n",
            "429/429 [==============================] - 26s 61ms/step - loss: 0.1932 - acc: 0.9338 - val_loss: 0.0697 - val_acc: 0.9776\n",
            "Epoch 84/100\n",
            "429/429 [==============================] - 26s 61ms/step - loss: 0.2025 - acc: 0.9321 - val_loss: 0.0458 - val_acc: 0.9838\n",
            "Epoch 85/100\n",
            "429/429 [==============================] - 25s 58ms/step - loss: 0.1931 - acc: 0.9338 - val_loss: 0.0546 - val_acc: 0.9824\n",
            "Epoch 86/100\n",
            "429/429 [==============================] - 25s 58ms/step - loss: 0.1917 - acc: 0.9353 - val_loss: 0.0419 - val_acc: 0.9859\n",
            "Epoch 87/100\n",
            "429/429 [==============================] - 25s 58ms/step - loss: 0.1875 - acc: 0.9367 - val_loss: 0.0381 - val_acc: 0.9863\n",
            "Epoch 88/100\n",
            "429/429 [==============================] - 26s 60ms/step - loss: 0.1996 - acc: 0.9351 - val_loss: 0.0819 - val_acc: 0.9764\n",
            "Epoch 89/100\n",
            "429/429 [==============================] - 26s 61ms/step - loss: 0.1829 - acc: 0.9378 - val_loss: 0.0585 - val_acc: 0.9820\n",
            "Epoch 90/100\n",
            "429/429 [==============================] - 25s 59ms/step - loss: 0.1897 - acc: 0.9355 - val_loss: 0.0963 - val_acc: 0.9702\n",
            "Epoch 91/100\n",
            "429/429 [==============================] - 26s 60ms/step - loss: 0.1907 - acc: 0.9364 - val_loss: 0.0544 - val_acc: 0.9859\n",
            "Epoch 92/100\n",
            "429/429 [==============================] - 25s 59ms/step - loss: 0.1849 - acc: 0.9365 - val_loss: 0.0506 - val_acc: 0.9803\n",
            "Epoch 93/100\n",
            "429/429 [==============================] - 26s 60ms/step - loss: 0.1858 - acc: 0.9379 - val_loss: 0.0599 - val_acc: 0.9784\n",
            "Epoch 94/100\n",
            "429/429 [==============================] - 25s 59ms/step - loss: 0.1760 - acc: 0.9410 - val_loss: 0.0348 - val_acc: 0.9872\n",
            "Epoch 95/100\n",
            "429/429 [==============================] - 26s 62ms/step - loss: 0.1913 - acc: 0.9363 - val_loss: 0.0644 - val_acc: 0.9849\n",
            "Epoch 96/100\n",
            "429/429 [==============================] - 26s 60ms/step - loss: 0.1830 - acc: 0.9398 - val_loss: 0.0907 - val_acc: 0.9717\n",
            "Epoch 97/100\n",
            "429/429 [==============================] - 26s 60ms/step - loss: 0.1704 - acc: 0.9423 - val_loss: 0.0593 - val_acc: 0.9752\n",
            "Epoch 98/100\n",
            "429/429 [==============================] - 26s 60ms/step - loss: 0.1833 - acc: 0.9373 - val_loss: 0.0351 - val_acc: 0.9886\n",
            "Epoch 99/100\n",
            "429/429 [==============================] - 26s 60ms/step - loss: 0.1697 - acc: 0.9425 - val_loss: 0.0505 - val_acc: 0.9828\n",
            "Epoch 100/100\n",
            "429/429 [==============================] - 25s 58ms/step - loss: 0.1752 - acc: 0.9421 - val_loss: 0.0916 - val_acc: 0.9700\n"
          ],
          "name": "stdout"
        },
        {
          "output_type": "execute_result",
          "data": {
            "text/plain": [
              "[393.9618225097656, 0.6692693829536438]"
            ]
          },
          "metadata": {
            "tags": []
          },
          "execution_count": 12
        }
      ]
    },
    {
      "cell_type": "code",
      "metadata": {
        "colab_type": "code",
        "id": "_Q3Zpr46dsij",
        "outputId": "c713c124-e7c5-42b3-985c-c3e19534b8b8",
        "colab": {
          "base_uri": "https://localhost:8080/",
          "height": 545
        }
      },
      "source": [
        "%matplotlib inline\n",
        "import matplotlib.pyplot as plt\n",
        "acc = history.history['acc']\n",
        "val_acc = history.history['val_acc']\n",
        "loss = history.history['loss']\n",
        "val_loss = history.history['val_loss']\n",
        "\n",
        "epochs = range(len(acc))\n",
        "\n",
        "plt.plot(epochs, acc, 'r', label='Training accuracy')\n",
        "plt.plot(epochs, val_acc, 'b', label='Validation accuracy')\n",
        "plt.title('Training and validation accuracy')\n",
        "plt.legend()\n",
        "plt.figure()\n",
        "\n",
        "plt.plot(epochs, loss, 'r', label='Training Loss')\n",
        "plt.plot(epochs, val_loss, 'b', label='Validation Loss')\n",
        "plt.title('Training and validation loss')\n",
        "plt.legend()\n",
        "\n",
        "plt.show()"
      ],
      "execution_count": 0,
      "outputs": [
        {
          "output_type": "display_data",
          "data": {
            "image/png": "[encoded data removed]",
            "text/plain": [
              "<Figure size 432x288 with 1 Axes>"
            ]
          },
          "metadata": {
            "tags": [],
            "needs_background": "light"
          }
        },
        {
          "output_type": "display_data",
          "data": {
            "image/png": "[encoded data removed]",
            "text/plain": [
              "<Figure size 432x288 with 1 Axes>"
            ]
          },
          "metadata": {
            "tags": [],
            "needs_background": "light"
          }
        }
      ]
    },
    {
      "cell_type": "code",
      "metadata": {
        "id": "1qTNYNFohnbT",
        "colab_type": "code",
        "colab": {}
      },
      "source": [
        ""
      ],
      "execution_count": 0,
      "outputs": []
    }
  ]
}