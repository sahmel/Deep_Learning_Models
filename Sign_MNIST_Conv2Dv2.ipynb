{
  "nbformat": 4,
  "nbformat_minor": 0,
  "metadata": {
    "colab": {
      "name": "Sign_MNIST_Conv2Dv2.ipynb",
      "provenance": [],
      "collapsed_sections": [],
      "include_colab_link": true
    },
    "kernelspec": {
      "display_name": "Python 3",
      "name": "python3"
    }
  },
  "cells": [
    {
      "cell_type": "markdown",
      "metadata": {
        "id": "view-in-github",
        "colab_type": "text"
      },
      "source": [
        "<a href=\"https://colab.research.google.com/github/sahmel/Deep_Learning_Models/blob/master/Sign_MNIST_Conv2Dv2.ipynb\" target=\"_parent\"><img src=\"https://colab.research.google.com/assets/colab-badge.svg\" alt=\"Open In Colab\"/></a>"
      ]
    },
    {
      "cell_type": "markdown",
      "metadata": {
        "id": "hnhBmsh90YOk",
        "colab_type": "text"
      },
      "source": [
        "This model was based on work done in the DeepLearning.ai TensorFlow specialization courses. "
      ]
    },
    {
      "cell_type": "code",
      "metadata": {
        "id": "zX4Kg8DUTKWO",
        "colab_type": "code",
        "colab": {}
      },
      "source": [
        "#@title Licensed under the Apache License, Version 2.0 (the \"License\");\n",
        "# you may not use this file except in compliance with the License.\n",
        "# You may obtain a copy of the License at\n",
        "#\n",
        "# https://www.apache.org/licenses/LICENSE-2.0\n",
        "#\n",
        "# Unless required by applicable law or agreed to in writing, software\n",
        "# distributed under the License is distributed on an \"AS IS\" BASIS,\n",
        "# WITHOUT WARRANTIES OR CONDITIONS OF ANY KIND, either express or implied.\n",
        "# See the License for the specific language governing permissions and\n",
        "# limitations under the License."
      ],
      "execution_count": 0,
      "outputs": []
    },
    {
      "cell_type": "code",
      "metadata": {
        "colab_type": "code",
        "id": "wYtuKeK0dImp",
        "colab": {}
      },
      "source": [
        "import csv\n",
        "import numpy as np\n",
        "import tensorflow as tf\n",
        "from tensorflow.keras.preprocessing.image import ImageDataGenerator\n",
        "from google.colab import files"
      ],
      "execution_count": 0,
      "outputs": []
    },
    {
      "cell_type": "markdown",
      "metadata": {
        "colab_type": "text",
        "id": "EmMyh9_mkDHF"
      },
      "source": [
        "The data for this model is available at: https://www.kaggle.com/datamunge/sign-language-mnist/home\n",
        "\n",
        "Sign up and download to find 2 CSV files: sign_mnist_test.csv and sign_mnist_train.csv -- You will upload both of them using this button before you can continue.\n"
      ]
    },
    {
      "cell_type": "code",
      "metadata": {
        "colab_type": "code",
        "id": "IcLOZlnnc_N7",
        "outputId": "301c1f62-a8bb-4749-8d1d-7d2b0cd66b1c",
        "colab": {
          "resources": {
            "http://localhost:8080/nbextensions/google.colab/files.js": {
              "data": "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",
              "ok": true,
              "headers": [
                [
                  "content-type",
                  "application/javascript"
                ]
              ],
              "status": 200,
              "status_text": ""
            }
          },
          "base_uri": "https://localhost:8080/",
          "height": 106
        }
      },
      "source": [
        "uploaded=files.upload()"
      ],
      "execution_count": 3,
      "outputs": [
        {
          "output_type": "display_data",
          "data": {
            "text/html": [
              "\n",
              "     <input type=\"file\" id=\"files-fd6b6c83-a84e-4282-8926-c5401200d8c2\" name=\"files[]\" multiple disabled />\n",
              "     <output id=\"result-fd6b6c83-a84e-4282-8926-c5401200d8c2\">\n",
              "      Upload widget is only available when the cell has been executed in the\n",
              "      current browser session. Please rerun this cell to enable.\n",
              "      </output>\n",
              "      <script src=\"/nbextensions/google.colab/files.js\"></script> "
            ],
            "text/plain": [
              "<IPython.core.display.HTML object>"
            ]
          },
          "metadata": {
            "tags": []
          }
        },
        {
          "output_type": "stream",
          "text": [
            "Saving sign_mnist_test.csv to sign_mnist_test.csv\n",
            "Saving sign_mnist_train.csv to sign_mnist_train.csv\n"
          ],
          "name": "stdout"
        }
      ]
    },
    {
      "cell_type": "code",
      "metadata": {
        "colab_type": "code",
        "id": "4kxw-_rmcnVu",
        "outputId": "b13cd8fd-af34-41a1-85d5-5034ac2bb4fe",
        "colab": {
          "base_uri": "https://localhost:8080/",
          "height": 86
        }
      },
      "source": [
        "def get_data(filename):\n",
        "  # You will need to write code that will read the file passed\n",
        "  # into this function. The first line contains the column headers\n",
        "  # so you should ignore it\n",
        "  # Each successive line contians 785 comma separated values between 0 and 255\n",
        "  # The first value is the label\n",
        "  # The rest are the pixel values for that picture\n",
        "  # The function will return 2 np.array types. One with all the labels\n",
        "  # One with all the images\n",
        "  #\n",
        "  # Tips: \n",
        "  # If you read a full line (as 'row') then row[0] has the label\n",
        "  # and row[1:785] has the 784 pixel values\n",
        "  # Take a look at np.array_split to turn the 784 pixels into 28x28\n",
        "  # You are reading in strings, but need the values to be floats\n",
        "  # Check out np.array().astype for a conversion\n",
        "    with open(filename) as training_file:\n",
        "        reader = csv.reader(training_file, delimiter=',')    \n",
        "        imgs = []\n",
        "        labels = []\n",
        "\n",
        "        next(reader, None)\n",
        "        \n",
        "        for row in reader:\n",
        "            label = row[0]\n",
        "            data = row[1:]\n",
        "            img = np.array(data).reshape((28, 28))\n",
        "\n",
        "            imgs.append(img)\n",
        "            labels.append(label)\n",
        "\n",
        "        images = np.array(imgs).astype(float)\n",
        "        labels = np.array(labels).astype(float)\n",
        "            \n",
        "    return images, labels\n",
        "\n",
        "training_images, training_labels = get_data('sign_mnist_train.csv')\n",
        "testing_images, testing_labels = get_data('sign_mnist_test.csv')\n",
        "\n",
        "# Keep these\n",
        "print(training_images.shape)\n",
        "print(training_labels.shape)\n",
        "print(testing_images.shape)\n",
        "print(testing_labels.shape)\n",
        "\n",
        "# Output should be:\n",
        "# (27455, 28, 28)\n",
        "# (27455,)\n",
        "# (7172, 28, 28)\n",
        "# (7172,)"
      ],
      "execution_count": 4,
      "outputs": [
        {
          "output_type": "stream",
          "text": [
            "(27455, 28, 28)\n",
            "(27455,)\n",
            "(7172, 28, 28)\n",
            "(7172,)\n"
          ],
          "name": "stdout"
        }
      ]
    },
    {
      "cell_type": "code",
      "metadata": {
        "colab_type": "code",
        "id": "awoqRpyZdQkD",
        "outputId": "16b83c3d-55c5-419b-8529-235530944298",
        "colab": {
          "base_uri": "https://localhost:8080/",
          "height": 52
        }
      },
      "source": [
        "training_images = np.expand_dims(training_images, axis=3)\n",
        "testing_images = np.expand_dims(testing_images, axis=3)\n",
        "\n",
        "\n",
        "# Create an ImageDataGenerator and do Image Augmentation\n",
        "train_datagen = ImageDataGenerator(rescale = 1./255.,\n",
        "                                   rotation_range = 40,\n",
        "                                   width_shift_range = 0.2,\n",
        "                                   height_shift_range = 0.2,\n",
        "                                   shear_range = 0.2,\n",
        "                                   zoom_range = 0.2,\n",
        "                                   horizontal_flip = True)\n",
        "\n",
        "validation_datagen = ImageDataGenerator(rescale = 1./255.)\n",
        "    \n",
        "print(training_images.shape)\n",
        "print(testing_images.shape)\n",
        "    \n",
        "# Output should be:\n",
        "# (27455, 28, 28, 1)\n",
        "# (7172, 28, 28, 1)"
      ],
      "execution_count": 5,
      "outputs": [
        {
          "output_type": "stream",
          "text": [
            "(27455, 28, 28, 1)\n",
            "(7172, 28, 28, 1)\n"
          ],
          "name": "stdout"
        }
      ]
    },
    {
      "cell_type": "code",
      "metadata": {
        "id": "Z2lZEeAhxuzw",
        "colab_type": "code",
        "colab": {}
      },
      "source": [
        "from tensorflow.keras.callbacks import EarlyStopping, ReduceLROnPlateau"
      ],
      "execution_count": 0,
      "outputs": []
    },
    {
      "cell_type": "code",
      "metadata": {
        "id": "rcIlsZowxv8y",
        "colab_type": "code",
        "colab": {}
      },
      "source": [
        "lr_reduction = ReduceLROnPlateau(monitor='val_acc', \n",
        "                                            patience=5, \n",
        "                                            verbose=1, \n",
        "                                            factor=0.2, \n",
        "                                            min_lr=0.0001)"
      ],
      "execution_count": 0,
      "outputs": []
    },
    {
      "cell_type": "code",
      "metadata": {
        "id": "lBGcsJFfaH11",
        "colab_type": "code",
        "colab": {}
      },
      "source": [
        "# Define a Callback class that stops training once accuracy reaches 99.9%\n",
        "class myCallback(tf.keras.callbacks.Callback):\n",
        "  def on_epoch_end(self, epoch, logs={}):\n",
        "    if(logs.get('val_acc')>0.999):\n",
        "      print(\"\\nReached 99.9% validation accuracy so cancelling training!\")\n",
        "      self.model.stop_training = True\n",
        "\n",
        "callbacks = myCallback()"
      ],
      "execution_count": 0,
      "outputs": []
    },
    {
      "cell_type": "code",
      "metadata": {
        "id": "xuNlvKr2aOdd",
        "colab_type": "code",
        "outputId": "fee8cf2b-97cb-4c0d-d468-7fdb26a6b3c4",
        "colab": {
          "base_uri": "https://localhost:8080/",
          "height": 1000
        }
      },
      "source": [
        "model = tf.keras.models.Sequential([\n",
        "    tf.keras.layers.Conv2D(16, (3,3), activation='relu', input_shape=(28, 28, 1)),\n",
        "    tf.keras.layers.BatchNormalization(),\n",
        "    tf.keras.layers.MaxPooling2D(2, 2),\n",
        "\n",
        "    tf.keras.layers.Conv2D(32, (3,3), activation='relu'),\n",
        "    tf.keras.layers.BatchNormalization(),\n",
        "    tf.keras.layers.MaxPooling2D(2,2),\n",
        "    \n",
        "    tf.keras.layers.Conv2D(64, (3,3), activation='relu'),\n",
        "    tf.keras.layers.BatchNormalization(),\n",
        "\n",
        "    tf.keras.layers.Conv2D(128, (3,3), activation='relu'),\n",
        "    tf.keras.layers.BatchNormalization(),\n",
        "    \n",
        "    tf.keras.layers.Flatten(),\n",
        "    tf.keras.layers.Dense(512, activation='relu'),\n",
        "    tf.keras.layers.Dropout(0.2),\n",
        "\n",
        "    tf.keras.layers.Dense(256, activation='relu'),\n",
        "    tf.keras.layers.Dropout(0.2),\n",
        "\n",
        "    tf.keras.layers.Dense(26, activation='softmax')]\n",
        "    )\n",
        "\n",
        "# Compile Model. \n",
        "model.compile(loss='sparse_categorical_crossentropy',\n",
        "              optimizer='adam',\n",
        "              metrics=['acc'])\n",
        "\n",
        "model.summary()\n",
        "\n",
        "# Configure generators\n",
        "training_generator = train_datagen.flow(training_images, training_labels, batch_size=64)\n",
        "validation_generator = validation_datagen.flow(testing_images, testing_labels, batch_size=64)\n",
        "\n",
        "# Train the Model\n",
        "history = model.fit_generator(training_generator, validation_data=validation_generator, epochs=100, \n",
        "                              verbose=1, callbacks=([callbacks], [lr_reduction]))\n",
        "\n",
        "model.evaluate(testing_images, testing_labels, verbose=0)"
      ],
      "execution_count": 12,
      "outputs": [
        {
          "output_type": "stream",
          "text": [
            "Model: \"sequential_1\"\n",
            "_________________________________________________________________\n",
            "Layer (type)                 Output Shape              Param #   \n",
            "=================================================================\n",
            "conv2d_4 (Conv2D)            (None, 26, 26, 16)        160       \n",
            "_________________________________________________________________\n",
            "batch_normalization_4 (Batch (None, 26, 26, 16)        64        \n",
            "_________________________________________________________________\n",
            "max_pooling2d_2 (MaxPooling2 (None, 13, 13, 16)        0         \n",
            "_________________________________________________________________\n",
            "conv2d_5 (Conv2D)            (None, 11, 11, 32)        4640      \n",
            "_________________________________________________________________\n",
            "batch_normalization_5 (Batch (None, 11, 11, 32)        128       \n",
            "_________________________________________________________________\n",
            "max_pooling2d_3 (MaxPooling2 (None, 5, 5, 32)          0         \n",
            "_________________________________________________________________\n",
            "conv2d_6 (Conv2D)            (None, 3, 3, 64)          18496     \n",
            "_________________________________________________________________\n",
            "batch_normalization_6 (Batch (None, 3, 3, 64)          256       \n",
            "_________________________________________________________________\n",
            "conv2d_7 (Conv2D)            (None, 1, 1, 128)         73856     \n",
            "_________________________________________________________________\n",
            "batch_normalization_7 (Batch (None, 1, 1, 128)         512       \n",
            "_________________________________________________________________\n",
            "flatten_1 (Flatten)          (None, 128)               0         \n",
            "_________________________________________________________________\n",
            "dense_3 (Dense)              (None, 512)               66048     \n",
            "_________________________________________________________________\n",
            "dropout_2 (Dropout)          (None, 512)               0         \n",
            "_________________________________________________________________\n",
            "dense_4 (Dense)              (None, 256)               131328    \n",
            "_________________________________________________________________\n",
            "dropout_3 (Dropout)          (None, 256)               0         \n",
            "_________________________________________________________________\n",
            "dense_5 (Dense)              (None, 26)                6682      \n",
            "=================================================================\n",
            "Total params: 302,170\n",
            "Trainable params: 301,690\n",
            "Non-trainable params: 480\n",
            "_________________________________________________________________\n",
            "Epoch 1/100\n",
            "429/429 [==============================] - 30s 71ms/step - loss: 2.1949 - acc: 0.3022 - val_loss: 3.1926 - val_acc: 0.1898 - lr: 0.0010\n",
            "Epoch 2/100\n",
            "429/429 [==============================] - 30s 71ms/step - loss: 1.3657 - acc: 0.5348 - val_loss: 0.8899 - val_acc: 0.6960 - lr: 0.0010\n",
            "Epoch 3/100\n",
            "429/429 [==============================] - 30s 71ms/step - loss: 1.0598 - acc: 0.6339 - val_loss: 0.7523 - val_acc: 0.7341 - lr: 0.0010\n",
            "Epoch 4/100\n",
            "429/429 [==============================] - 30s 71ms/step - loss: 0.8532 - acc: 0.7055 - val_loss: 0.7283 - val_acc: 0.7522 - lr: 0.0010\n",
            "Epoch 5/100\n",
            "429/429 [==============================] - 30s 69ms/step - loss: 0.7490 - acc: 0.7406 - val_loss: 0.4558 - val_acc: 0.8487 - lr: 0.0010\n",
            "Epoch 6/100\n",
            "429/429 [==============================] - 30s 70ms/step - loss: 0.6534 - acc: 0.7715 - val_loss: 0.7125 - val_acc: 0.7239 - lr: 0.0010\n",
            "Epoch 7/100\n",
            "429/429 [==============================] - 30s 70ms/step - loss: 0.6064 - acc: 0.7883 - val_loss: 0.6897 - val_acc: 0.7517 - lr: 0.0010\n",
            "Epoch 8/100\n",
            "429/429 [==============================] - 31s 72ms/step - loss: 0.5598 - acc: 0.8052 - val_loss: 0.3637 - val_acc: 0.8685 - lr: 0.0010\n",
            "Epoch 9/100\n",
            "429/429 [==============================] - 31s 71ms/step - loss: 0.5129 - acc: 0.8234 - val_loss: 0.7636 - val_acc: 0.7573 - lr: 0.0010\n",
            "Epoch 10/100\n",
            "429/429 [==============================] - 30s 70ms/step - loss: 0.4877 - acc: 0.8313 - val_loss: 0.4451 - val_acc: 0.8462 - lr: 0.0010\n",
            "Epoch 11/100\n",
            "429/429 [==============================] - 30s 71ms/step - loss: 0.4540 - acc: 0.8426 - val_loss: 0.1825 - val_acc: 0.9306 - lr: 0.0010\n",
            "Epoch 12/100\n",
            "429/429 [==============================] - 30s 71ms/step - loss: 0.4322 - acc: 0.8520 - val_loss: 0.1946 - val_acc: 0.9371 - lr: 0.0010\n",
            "Epoch 13/100\n",
            "429/429 [==============================] - 31s 72ms/step - loss: 0.4027 - acc: 0.8617 - val_loss: 0.1888 - val_acc: 0.9356 - lr: 0.0010\n",
            "Epoch 14/100\n",
            "429/429 [==============================] - 32s 75ms/step - loss: 0.3825 - acc: 0.8719 - val_loss: 0.3476 - val_acc: 0.8981 - lr: 0.0010\n",
            "Epoch 15/100\n",
            "429/429 [==============================] - 30s 71ms/step - loss: 0.3747 - acc: 0.8734 - val_loss: 0.7587 - val_acc: 0.7678 - lr: 0.0010\n",
            "Epoch 16/100\n",
            "429/429 [==============================] - 30s 71ms/step - loss: 0.3564 - acc: 0.8810 - val_loss: 0.1808 - val_acc: 0.9462 - lr: 0.0010\n",
            "Epoch 17/100\n",
            "429/429 [==============================] - 30s 71ms/step - loss: 0.3369 - acc: 0.8864 - val_loss: 0.0947 - val_acc: 0.9702 - lr: 0.0010\n",
            "Epoch 18/100\n",
            "429/429 [==============================] - 30s 70ms/step - loss: 0.3414 - acc: 0.8839 - val_loss: 0.2266 - val_acc: 0.9222 - lr: 0.0010\n",
            "Epoch 19/100\n",
            "429/429 [==============================] - 30s 70ms/step - loss: 0.3118 - acc: 0.8942 - val_loss: 0.2593 - val_acc: 0.9123 - lr: 0.0010\n",
            "Epoch 20/100\n",
            "429/429 [==============================] - 30s 69ms/step - loss: 0.3023 - acc: 0.8968 - val_loss: 1.0591 - val_acc: 0.7362 - lr: 0.0010\n",
            "Epoch 21/100\n",
            "429/429 [==============================] - 30s 70ms/step - loss: 0.3123 - acc: 0.8957 - val_loss: 0.2146 - val_acc: 0.9239 - lr: 0.0010\n",
            "Epoch 22/100\n",
            "428/429 [============================>.] - ETA: 0s - loss: 0.2869 - acc: 0.9025\n",
            "Epoch 00022: ReduceLROnPlateau reducing learning rate to 0.00020000000949949026.\n",
            "429/429 [==============================] - 30s 70ms/step - loss: 0.2868 - acc: 0.9025 - val_loss: 0.1945 - val_acc: 0.9363 - lr: 0.0010\n",
            "Epoch 23/100\n",
            "429/429 [==============================] - 30s 69ms/step - loss: 0.2202 - acc: 0.9245 - val_loss: 0.0369 - val_acc: 0.9876 - lr: 2.0000e-04\n",
            "Epoch 24/100\n",
            "429/429 [==============================] - 30s 70ms/step - loss: 0.1849 - acc: 0.9376 - val_loss: 0.0263 - val_acc: 0.9937 - lr: 2.0000e-04\n",
            "Epoch 25/100\n",
            "429/429 [==============================] - 30s 69ms/step - loss: 0.1875 - acc: 0.9381 - val_loss: 0.0201 - val_acc: 0.9943 - lr: 2.0000e-04\n",
            "Epoch 26/100\n",
            "429/429 [==============================] - 30s 70ms/step - loss: 0.1763 - acc: 0.9412 - val_loss: 0.0329 - val_acc: 0.9886 - lr: 2.0000e-04\n",
            "Epoch 27/100\n",
            "429/429 [==============================] - 30s 70ms/step - loss: 0.1689 - acc: 0.9428 - val_loss: 0.0210 - val_acc: 0.9941 - lr: 2.0000e-04\n",
            "Epoch 28/100\n",
            "429/429 [==============================] - 30s 70ms/step - loss: 0.1688 - acc: 0.9433 - val_loss: 0.0451 - val_acc: 0.9828 - lr: 2.0000e-04\n",
            "Epoch 29/100\n",
            "429/429 [==============================] - 30s 70ms/step - loss: 0.1650 - acc: 0.9455 - val_loss: 0.1014 - val_acc: 0.9644 - lr: 2.0000e-04\n",
            "Epoch 30/100\n",
            "429/429 [==============================] - 30s 70ms/step - loss: 0.1621 - acc: 0.9445 - val_loss: 0.0134 - val_acc: 0.9971 - lr: 2.0000e-04\n",
            "Epoch 31/100\n",
            "429/429 [==============================] - 30s 69ms/step - loss: 0.1591 - acc: 0.9443 - val_loss: 0.0516 - val_acc: 0.9792 - lr: 2.0000e-04\n",
            "Epoch 32/100\n",
            "429/429 [==============================] - 30s 70ms/step - loss: 0.1601 - acc: 0.9478 - val_loss: 0.0375 - val_acc: 0.9837 - lr: 2.0000e-04\n",
            "Epoch 33/100\n",
            "429/429 [==============================] - 30s 70ms/step - loss: 0.1531 - acc: 0.9472 - val_loss: 0.0434 - val_acc: 0.9849 - lr: 2.0000e-04\n",
            "Epoch 34/100\n",
            "429/429 [==============================] - 30s 69ms/step - loss: 0.1531 - acc: 0.9476 - val_loss: 0.0310 - val_acc: 0.9879 - lr: 2.0000e-04\n",
            "Epoch 35/100\n",
            "428/429 [============================>.] - ETA: 0s - loss: 0.1509 - acc: 0.9491\n",
            "Epoch 00035: ReduceLROnPlateau reducing learning rate to 0.0001.\n",
            "429/429 [==============================] - 30s 69ms/step - loss: 0.1510 - acc: 0.9491 - val_loss: 0.0254 - val_acc: 0.9900 - lr: 2.0000e-04\n",
            "Epoch 36/100\n",
            "429/429 [==============================] - 30s 70ms/step - loss: 0.1399 - acc: 0.9531 - val_loss: 0.0207 - val_acc: 0.9909 - lr: 1.0000e-04\n",
            "Epoch 37/100\n",
            "429/429 [==============================] - 30s 70ms/step - loss: 0.1332 - acc: 0.9543 - val_loss: 0.0152 - val_acc: 0.9948 - lr: 1.0000e-04\n",
            "Epoch 38/100\n",
            "429/429 [==============================] - 30s 69ms/step - loss: 0.1347 - acc: 0.9548 - val_loss: 0.0234 - val_acc: 0.9909 - lr: 1.0000e-04\n",
            "Epoch 39/100\n",
            "429/429 [==============================] - 30s 69ms/step - loss: 0.1310 - acc: 0.9556 - val_loss: 0.0162 - val_acc: 0.9946 - lr: 1.0000e-04\n",
            "Epoch 40/100\n",
            "429/429 [==============================] - 30s 70ms/step - loss: 0.1328 - acc: 0.9549 - val_loss: 0.0242 - val_acc: 0.9895 - lr: 1.0000e-04\n",
            "Epoch 41/100\n",
            "429/429 [==============================] - 30s 70ms/step - loss: 0.1279 - acc: 0.9567 - val_loss: 0.0197 - val_acc: 0.9926 - lr: 1.0000e-04\n",
            "Epoch 42/100\n",
            "429/429 [==============================] - 30s 70ms/step - loss: 0.1294 - acc: 0.9556 - val_loss: 0.0182 - val_acc: 0.9922 - lr: 1.0000e-04\n",
            "Epoch 43/100\n",
            "429/429 [==============================] - 30s 69ms/step - loss: 0.1255 - acc: 0.9577 - val_loss: 0.0121 - val_acc: 0.9958 - lr: 1.0000e-04\n",
            "Epoch 44/100\n",
            "429/429 [==============================] - 30s 70ms/step - loss: 0.1228 - acc: 0.9591 - val_loss: 0.0359 - val_acc: 0.9841 - lr: 1.0000e-04\n",
            "Epoch 45/100\n",
            "429/429 [==============================] - 30s 70ms/step - loss: 0.1289 - acc: 0.9568 - val_loss: 0.0240 - val_acc: 0.9908 - lr: 1.0000e-04\n",
            "Epoch 46/100\n",
            "429/429 [==============================] - 30s 69ms/step - loss: 0.1212 - acc: 0.9588 - val_loss: 0.0178 - val_acc: 0.9947 - lr: 1.0000e-04\n",
            "Epoch 47/100\n",
            "429/429 [==============================] - 30s 69ms/step - loss: 0.1263 - acc: 0.9575 - val_loss: 0.0110 - val_acc: 0.9955 - lr: 1.0000e-04\n",
            "Epoch 48/100\n",
            "429/429 [==============================] - 30s 70ms/step - loss: 0.1239 - acc: 0.9573 - val_loss: 0.0231 - val_acc: 0.9888 - lr: 1.0000e-04\n",
            "Epoch 49/100\n",
            "429/429 [==============================] - 30s 70ms/step - loss: 0.1239 - acc: 0.9592 - val_loss: 0.0221 - val_acc: 0.9898 - lr: 1.0000e-04\n",
            "Epoch 50/100\n",
            "429/429 [==============================] - 30s 70ms/step - loss: 0.1279 - acc: 0.9574 - val_loss: 0.0132 - val_acc: 0.9941 - lr: 1.0000e-04\n",
            "Epoch 51/100\n",
            "429/429 [==============================] - 30s 70ms/step - loss: 0.1164 - acc: 0.9605 - val_loss: 0.0268 - val_acc: 0.9890 - lr: 1.0000e-04\n",
            "Epoch 52/100\n",
            "429/429 [==============================] - 30s 69ms/step - loss: 0.1184 - acc: 0.9594 - val_loss: 0.0244 - val_acc: 0.9900 - lr: 1.0000e-04\n",
            "Epoch 53/100\n",
            "429/429 [==============================] - 30s 70ms/step - loss: 0.1221 - acc: 0.9587 - val_loss: 0.0098 - val_acc: 0.9972 - lr: 1.0000e-04\n",
            "Epoch 54/100\n",
            "429/429 [==============================] - 30s 70ms/step - loss: 0.1136 - acc: 0.9609 - val_loss: 0.0185 - val_acc: 0.9941 - lr: 1.0000e-04\n",
            "Epoch 55/100\n",
            "429/429 [==============================] - 30s 69ms/step - loss: 0.1176 - acc: 0.9616 - val_loss: 0.0232 - val_acc: 0.9908 - lr: 1.0000e-04\n",
            "Epoch 56/100\n",
            "429/429 [==============================] - 30s 70ms/step - loss: 0.1130 - acc: 0.9620 - val_loss: 0.0253 - val_acc: 0.9901 - lr: 1.0000e-04\n",
            "Epoch 57/100\n",
            "429/429 [==============================] - 30s 70ms/step - loss: 0.1107 - acc: 0.9625 - val_loss: 0.0152 - val_acc: 0.9941 - lr: 1.0000e-04\n",
            "Epoch 58/100\n",
            "429/429 [==============================] - 30s 70ms/step - loss: 0.1093 - acc: 0.9622 - val_loss: 0.0271 - val_acc: 0.9905 - lr: 1.0000e-04\n",
            "Epoch 59/100\n",
            "429/429 [==============================] - 30s 70ms/step - loss: 0.1137 - acc: 0.9623 - val_loss: 0.0282 - val_acc: 0.9921 - lr: 1.0000e-04\n",
            "Epoch 60/100\n",
            "429/429 [==============================] - 30s 70ms/step - loss: 0.1178 - acc: 0.9603 - val_loss: 0.0172 - val_acc: 0.9944 - lr: 1.0000e-04\n",
            "Epoch 61/100\n",
            "429/429 [==============================] - 30s 70ms/step - loss: 0.1088 - acc: 0.9627 - val_loss: 0.0369 - val_acc: 0.9879 - lr: 1.0000e-04\n",
            "Epoch 62/100\n",
            "429/429 [==============================] - 30s 70ms/step - loss: 0.1134 - acc: 0.9605 - val_loss: 0.0222 - val_acc: 0.9914 - lr: 1.0000e-04\n",
            "Epoch 63/100\n",
            "429/429 [==============================] - 30s 70ms/step - loss: 0.1158 - acc: 0.9612 - val_loss: 0.0187 - val_acc: 0.9941 - lr: 1.0000e-04\n",
            "Epoch 64/100\n",
            "429/429 [==============================] - 30s 70ms/step - loss: 0.1121 - acc: 0.9616 - val_loss: 0.0369 - val_acc: 0.9855 - lr: 1.0000e-04\n",
            "Epoch 65/100\n",
            "429/429 [==============================] - 30s 70ms/step - loss: 0.1129 - acc: 0.9618 - val_loss: 0.0257 - val_acc: 0.9905 - lr: 1.0000e-04\n",
            "Epoch 66/100\n",
            "429/429 [==============================] - 30s 70ms/step - loss: 0.1081 - acc: 0.9645 - val_loss: 0.0168 - val_acc: 0.9933 - lr: 1.0000e-04\n",
            "Epoch 67/100\n",
            "429/429 [==============================] - 30s 70ms/step - loss: 0.1085 - acc: 0.9631 - val_loss: 0.0085 - val_acc: 0.9975 - lr: 1.0000e-04\n",
            "Epoch 68/100\n",
            "429/429 [==============================] - 30s 70ms/step - loss: 0.1108 - acc: 0.9624 - val_loss: 0.0097 - val_acc: 0.9965 - lr: 1.0000e-04\n",
            "Epoch 69/100\n",
            "429/429 [==============================] - 30s 70ms/step - loss: 0.1084 - acc: 0.9630 - val_loss: 0.0150 - val_acc: 0.9955 - lr: 1.0000e-04\n",
            "Epoch 70/100\n",
            "429/429 [==============================] - 30s 70ms/step - loss: 0.1044 - acc: 0.9642 - val_loss: 0.0127 - val_acc: 0.9961 - lr: 1.0000e-04\n",
            "Epoch 71/100\n",
            "429/429 [==============================] - 30s 70ms/step - loss: 0.1013 - acc: 0.9657 - val_loss: 0.0191 - val_acc: 0.9923 - lr: 1.0000e-04\n",
            "Epoch 72/100\n",
            "429/429 [==============================] - 30s 70ms/step - loss: 0.1081 - acc: 0.9629 - val_loss: 0.0126 - val_acc: 0.9951 - lr: 1.0000e-04\n",
            "Epoch 73/100\n",
            "429/429 [==============================] - 30s 70ms/step - loss: 0.1044 - acc: 0.9652 - val_loss: 0.0130 - val_acc: 0.9958 - lr: 1.0000e-04\n",
            "Epoch 74/100\n",
            "429/429 [==============================] - 30s 70ms/step - loss: 0.1001 - acc: 0.9660 - val_loss: 0.0186 - val_acc: 0.9951 - lr: 1.0000e-04\n",
            "Epoch 75/100\n",
            "429/429 [==============================] - 30s 69ms/step - loss: 0.1022 - acc: 0.9657 - val_loss: 0.0120 - val_acc: 0.9953 - lr: 1.0000e-04\n",
            "Epoch 76/100\n",
            "429/429 [==============================] - 30s 69ms/step - loss: 0.1023 - acc: 0.9658 - val_loss: 0.0146 - val_acc: 0.9950 - lr: 1.0000e-04\n",
            "Epoch 77/100\n",
            "429/429 [==============================] - 30s 70ms/step - loss: 0.1051 - acc: 0.9641 - val_loss: 0.0137 - val_acc: 0.9944 - lr: 1.0000e-04\n",
            "Epoch 78/100\n",
            "429/429 [==============================] - 30s 70ms/step - loss: 0.1065 - acc: 0.9637 - val_loss: 0.0190 - val_acc: 0.9934 - lr: 1.0000e-04\n",
            "Epoch 79/100\n",
            "429/429 [==============================] - 30s 70ms/step - loss: 0.1005 - acc: 0.9677 - val_loss: 0.0145 - val_acc: 0.9941 - lr: 1.0000e-04\n",
            "Epoch 80/100\n",
            "429/429 [==============================] - 30s 70ms/step - loss: 0.0993 - acc: 0.9651 - val_loss: 0.0095 - val_acc: 0.9960 - lr: 1.0000e-04\n",
            "Epoch 81/100\n",
            "429/429 [==============================] - 30s 70ms/step - loss: 0.1057 - acc: 0.9653 - val_loss: 0.0149 - val_acc: 0.9951 - lr: 1.0000e-04\n",
            "Epoch 82/100\n",
            "429/429 [==============================] - 30s 70ms/step - loss: 0.1009 - acc: 0.9666 - val_loss: 0.0687 - val_acc: 0.9735 - lr: 1.0000e-04\n",
            "Epoch 83/100\n",
            "429/429 [==============================] - 30s 70ms/step - loss: 0.1003 - acc: 0.9673 - val_loss: 0.0262 - val_acc: 0.9904 - lr: 1.0000e-04\n",
            "Epoch 84/100\n",
            "429/429 [==============================] - 30s 70ms/step - loss: 0.1040 - acc: 0.9636 - val_loss: 0.0152 - val_acc: 0.9960 - lr: 1.0000e-04\n",
            "Epoch 85/100\n",
            "429/429 [==============================] - 30s 70ms/step - loss: 0.0978 - acc: 0.9675 - val_loss: 0.0684 - val_acc: 0.9703 - lr: 1.0000e-04\n",
            "Epoch 86/100\n",
            "429/429 [==============================] - 30s 70ms/step - loss: 0.0939 - acc: 0.9690 - val_loss: 0.0162 - val_acc: 0.9947 - lr: 1.0000e-04\n",
            "Epoch 87/100\n",
            "429/429 [==============================] - 30s 70ms/step - loss: 0.1009 - acc: 0.9656 - val_loss: 0.0130 - val_acc: 0.9960 - lr: 1.0000e-04\n",
            "Epoch 88/100\n",
            "429/429 [==============================] - 30s 70ms/step - loss: 0.1015 - acc: 0.9652 - val_loss: 0.0136 - val_acc: 0.9954 - lr: 1.0000e-04\n",
            "Epoch 89/100\n",
            "429/429 [==============================] - 30s 70ms/step - loss: 0.0972 - acc: 0.9680 - val_loss: 0.0135 - val_acc: 0.9953 - lr: 1.0000e-04\n",
            "Epoch 90/100\n",
            "429/429 [==============================] - 30s 70ms/step - loss: 0.1012 - acc: 0.9681 - val_loss: 0.0224 - val_acc: 0.9916 - lr: 1.0000e-04\n",
            "Epoch 91/100\n",
            "429/429 [==============================] - 30s 69ms/step - loss: 0.0965 - acc: 0.9683 - val_loss: 0.0176 - val_acc: 0.9912 - lr: 1.0000e-04\n",
            "Epoch 92/100\n",
            "429/429 [==============================] - 30s 69ms/step - loss: 0.0954 - acc: 0.9681 - val_loss: 0.0310 - val_acc: 0.9868 - lr: 1.0000e-04\n",
            "Epoch 93/100\n",
            "429/429 [==============================] - 30s 69ms/step - loss: 0.0948 - acc: 0.9680 - val_loss: 0.0165 - val_acc: 0.9926 - lr: 1.0000e-04\n",
            "Epoch 94/100\n",
            "429/429 [==============================] - 30s 70ms/step - loss: 0.0952 - acc: 0.9682 - val_loss: 0.0168 - val_acc: 0.9934 - lr: 1.0000e-04\n",
            "Epoch 95/100\n",
            "429/429 [==============================] - 30s 69ms/step - loss: 0.0958 - acc: 0.9682 - val_loss: 0.0213 - val_acc: 0.9927 - lr: 1.0000e-04\n",
            "Epoch 96/100\n",
            "429/429 [==============================] - 30s 69ms/step - loss: 0.1012 - acc: 0.9672 - val_loss: 0.0164 - val_acc: 0.9933 - lr: 1.0000e-04\n",
            "Epoch 97/100\n",
            "429/429 [==============================] - 30s 69ms/step - loss: 0.0925 - acc: 0.9689 - val_loss: 0.0409 - val_acc: 0.9862 - lr: 1.0000e-04\n",
            "Epoch 98/100\n",
            "429/429 [==============================] - 30s 69ms/step - loss: 0.0958 - acc: 0.9687 - val_loss: 0.0438 - val_acc: 0.9859 - lr: 1.0000e-04\n",
            "Epoch 99/100\n",
            "429/429 [==============================] - 30s 69ms/step - loss: 0.0949 - acc: 0.9674 - val_loss: 0.0118 - val_acc: 0.9947 - lr: 1.0000e-04\n",
            "Epoch 100/100\n",
            "429/429 [==============================] - 30s 70ms/step - loss: 0.0920 - acc: 0.9687 - val_loss: 0.0126 - val_acc: 0.9957 - lr: 1.0000e-04\n"
          ],
          "name": "stdout"
        },
        {
          "output_type": "execute_result",
          "data": {
            "text/plain": [
              "[419.66424560546875, 0.3680981695652008]"
            ]
          },
          "metadata": {
            "tags": []
          },
          "execution_count": 12
        }
      ]
    },
    {
      "cell_type": "code",
      "metadata": {
        "colab_type": "code",
        "id": "_Q3Zpr46dsij",
        "outputId": "74acdc34-674f-4867-ac7b-e86b46632dc0",
        "colab": {
          "base_uri": "https://localhost:8080/",
          "height": 545
        }
      },
      "source": [
        "%matplotlib inline\n",
        "import matplotlib.pyplot as plt\n",
        "acc = history.history['acc']\n",
        "val_acc = history.history['val_acc']\n",
        "loss = history.history['loss']\n",
        "val_loss = history.history['val_loss']\n",
        "\n",
        "epochs = range(len(acc))\n",
        "\n",
        "plt.plot(epochs, acc, 'r', label='Training accuracy')\n",
        "plt.plot(epochs, val_acc, 'b', label='Validation accuracy')\n",
        "plt.title('Training and validation accuracy')\n",
        "plt.legend()\n",
        "plt.figure()\n",
        "\n",
        "plt.plot(epochs, loss, 'r', label='Training Loss')\n",
        "plt.plot(epochs, val_loss, 'b', label='Validation Loss')\n",
        "plt.title('Training and validation loss')\n",
        "plt.legend()\n",
        "\n",
        "plt.show()"
      ],
      "execution_count": 13,
      "outputs": [
        {
          "output_type": "display_data",
          "data": {
            "image/png": "[encoded data removed]",
            "text/plain": [
              "<Figure size 432x288 with 1 Axes>"
            ]
          },
          "metadata": {
            "tags": [],
            "needs_background": "light"
          }
        },
        {
          "output_type": "display_data",
          "data": {
            "image/png": "[encoded data removed]",
            "text/plain": [
              "<Figure size 432x288 with 1 Axes>"
            ]
          },
          "metadata": {
            "tags": [],
            "needs_background": "light"
          }
        }
      ]
    },
    {
      "cell_type": "code",
      "metadata": {
        "id": "1qTNYNFohnbT",
        "colab_type": "code",
        "colab": {}
      },
      "source": [
        ""
      ],
      "execution_count": 0,
      "outputs": []
    }
  ]
}